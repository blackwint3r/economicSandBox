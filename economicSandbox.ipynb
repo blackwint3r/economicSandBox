{
 "cells": [
  {
   "cell_type": "markdown",
   "metadata": {},
   "source": [
    "# 经济学的沙盒"
   ]
  },
  {
   "cell_type": "markdown",
   "metadata": {},
   "source": [
    "##  1. 市场的定义\n",
    "**市场**$ \\mathbb M $是一个7元组。$\\mathbb M=<T,P,G,H_t,C_t,D_t,\\{J_{g}\\}_{g \\in G}>$\n",
    "- **时间** $t，t = 0, 1, 2 ...$\n",
    "- **参与人集合** $P，p \\in P$\n",
    "- **商品集合** $G，g \\in G$\n",
    "- **持有矩阵** $H^{(t)}$，大小为 $|P| \\times |G|$ 。参与人$p$持有的商品$g$的数量为$h_{p,g}$\n",
    "- **消费矩阵** $C^{(t)} $，同上类似。\n",
    "- **生产矩阵** $D^{(t)} $，类似。\n",
    "- **愉悦函数** $\\{J_{p,g}\\}_{p \\in P,g \\in G}$，从“某人拥有某商品的数量”到“该人的愉悦程度”的映射。$J_{p,g} :  \\mathbb R \\rightarrow \\mathbb R^k $。简单起见，也可以令愉悦函数与人无关，于是愉悦函数定义为 $\\{J_{g}\\}_{g \\in G}$\n",
    "\n",
    "根据韦伯-费希纳定律，$J$一般为对数函数形式。"
   ]
  },
  {
   "cell_type": "code",
   "execution_count": 1,
   "metadata": {
    "collapsed": true
   },
   "outputs": [],
   "source": [
    "import random\n",
    "import math\n",
    "import numpy as np\n",
    "Players=['小明','小强','小丽']\n",
    "Goods=['钻石','苹果','水']\n",
    "\n",
    "\n",
    "#商品的持有\n",
    "currentholds=np.zeros((len(Players),len(Goods)))\n",
    "history_holds=[]\n",
    "def getHolds(p,g,t):\n",
    "    return history_holds[t][Players.index(p)][Goods.index(g)]\n",
    "def setHolds(p,g):\n",
    "    history_holds.append(currentholds)\n",
    "\n",
    "\n",
    "#钱\n",
    "currenmholds=np.zeros(len(Players))\n",
    "history_mholds=[]\n",
    "def getMHolds(p,t):\n",
    "    return history_mholds[t][Players.index(p)]\n",
    "def setMHolds(p):\n",
    "    history_mholds.append(currenmholds)\n",
    "\n",
    "#消费\n",
    "current_consum=np.zeros((len(Players),len(Goods)))\n",
    "histroy_consum=[]\n",
    "def getConsum(p,g,t):\n",
    "    return history_consum[t][Players.index(p)][Goods.index(g)]\n",
    "def setConsum(p,g):\n",
    "    histroy_consum.append(current_consum)\n",
    "\n",
    "#生产\n",
    "current_produce=np.zeros((len(Players),len(Goods)))\n",
    "histroy_produce=[]\n",
    "def getProduce(p,g,t):\n",
    "    return history_produce[t][Players.index(p)][Goods.index(g)]\n",
    "def setProduce(p,g):\n",
    "    histroy_produce.append(current_produce)\n",
    "\n",
    "#需求 \n",
    "# from sympy import * \n",
    "happinessfun=[]\n",
    "marginal_hapfun=[]\n",
    "for p in range(len(Players)):\n",
    "    happinessfun.insert(p,[])\n",
    "    marginal_hapfun.insert(p,[])\n",
    "    for g in range(len(Goods)):\n",
    "        if g==0:#钻石\n",
    "            happinessfun[p].insert(g,lambda n:0.5 * math.log(n+1))\n",
    "            marginal_hapfun[p].insert(g,lambda n:0.5*1/(n+1))\n",
    "        elif g==1:#苹果\n",
    "            happinessfun[p].insert(g,lambda n:5 * math.log(n))\n",
    "            marginal_hapfun[p].insert(g,lambda n:5*1/(n))\n",
    "        elif g==2:#水\n",
    "            happinessfun[p].insert(g,lambda n:math.atan(n))\n",
    "            marginal_hapfun[p].insert(g,lambda n:1/(1+n^2))\n",
    "\n",
    "\n",
    "def gethappiness(p,g,n):\n",
    "    return happinessfun[Players.index(p)][Goods.index(g)](n)\n"
   ]
  },
  {
   "cell_type": "code",
   "execution_count": 131,
   "metadata": {},
   "outputs": [
    {
     "data": {
      "text/plain": [
       "1.4801364395941514"
      ]
     },
     "execution_count": 131,
     "metadata": {},
     "output_type": "execute_result"
    }
   ],
   "source": [
    "happinessfun[2][2](11)"
   ]
  },
  {
   "cell_type": "markdown",
   "metadata": {},
   "source": [
    "## 2. 市场的起源——物物交换阶段\n",
    "### 2.1 交换\n",
    "- 定义1：**交换**$e$是一个7元组。$e=<p_1,p_2,g_1,g_2,h_{p_1,g_1},h_{p_1,g_2},h_{p_2,g_1},h_{p_2,g_2},r>$\n",
    "- 定义2：已知$p_1$拥有$h$个商品$g_1$和$h_2$个商品$g_2$，$g_1$和$g_2$的交换比率为$r$。定义$p_1$对交换$e$的**交换偏好**为 $-log(\\frac{ J'_{p,g}(h)}{J'_{p,g_2}(h_2)}  \\cdot r)$。\n",
    "- 定义3：当交换偏好 > 0 时，称交换$e$对$p$来说是**可接受的**。\n",
    "\n",
    "仅当交换e对参与人$p_1$和$p_2$都是可接受的，且两人分别拥有的g和g2的商品数量大于0时，才可能发生**交换**。\n",
    "\n",
    "\n",
    "- 定理1(?)：一个交换最大化所有人的交换偏好之和，当且仅当该交换最大化所有人的愉悦值之和。\n",
    "- 定理2：如果所有人的愉悦函数是单调上升的，且存在交换比率$r$，使交换对$p_1$和$p_2$都是可接受的。则必然存在交换比率$r'$，在该比例下$p_1$和$p_2$的交换偏好相等。称其为**平等交换**。\n",
    "\n",
    "### 2.2 分配\n",
    "- 定义4：一个分配$R$是一个4元组。$R=<P',G',H_{P',G'},R>$,其中：$P'\\in P, G'\\in G, H_{P',G'}$为$H$的子矩阵，$R$为交换比率矩阵。\n",
    "- 定义5：在多人之间重新分配商品，且使所有人的愉悦值增加，称该分配对所有人是**可接受的**。\n",
    "- 定理3：分配$R$可以等价为一个交换的序列:$R=(e_1,e_2,...e_n)$。一个可接受的分配，其对应的每一个交换不一定是可接受的。\n",
    "- 定义6：对一个交换$e$，如果存在一个可接受的分配$R=(e_1,e_2,...e_n)$使得$e=e_1$，则称该交换是**弱可接受的**。\n",
    "\n"
   ]
  },
  {
   "cell_type": "code",
   "execution_count": 5,
   "metadata": {
    "collapsed": true
   },
   "outputs": [],
   "source": [
    "\n",
    "currentholds=[[3,3,3],\n",
    "              [3,3,3],\n",
    "              [3,3,3]]\n",
    "currenmholds=[3,3,3]\n",
    "\n",
    "current_produce=[[1,0,1],\n",
    "                [0,3,2],\n",
    "                [0,1,5]]\n",
    "tick_now=0\n",
    "\n",
    "\n",
    "def exchange_pefer(p,g,g2,h,h2,lg_r):\n",
    "    k1=marginal_hapfun[p][g](h)\n",
    "    k2=marginal_hapfun[p][g2](h2)\n",
    "    return -1*math.log(k1/k2*math.exp(-lg_r))\n",
    "\n",
    "#交换比率-偏好函数，横轴为交换比率的负对数，纵轴为偏好程度\n",
    "#def exrate_pefer_fun(lgr)\n",
    "#    return exchange_pefer(p,g,g2,h,h2,math.exp(lgr))\n",
    "\n",
    "\n",
    "\n",
    "for p in range(len(Players)):\n",
    "    for g in range(len(Goods)):        \n",
    "        for p2 in range(len(Players)):\n",
    "            for g2 in range(len(Goods)):\n",
    "                1\n",
    "                #if exchange_pefer(p,g,g2,currentholds[p][g],currentholds[p][g2],)\n",
    "\n",
    "\n",
    "\n"
   ]
  },
  {
   "cell_type": "code",
   "execution_count": 9,
   "metadata": {},
   "outputs": [
    {
     "data": {
      "image/png": "[encoded data removed]",
      "text/plain": [
       "<Figure size 432x288 with 1 Axes>"
      ]
     },
     "metadata": {},
     "output_type": "display_data"
    }
   ],
   "source": [
    "from __future__ import print_function\n",
    "from ipywidgets import interact, interactive, fixed, interact_manual\n",
    "import ipywidgets as widgets\n",
    "import matplotlib.pyplot as plt\n",
    "'''\n",
    "p=0\n",
    "g=0\n",
    "g2=1\n",
    "h=3\n",
    "h2=1\n",
    "'''\n",
    "\n",
    "def plotfun(p,g,g2,h,h2):   \n",
    "    #plt.figure(2)\n",
    "    xlin = np.linspace(-10, 10, num=1000)\n",
    "    plt.plot(xlin,[exchange_pefer(p,g,g2,h,h2,x) for x in xlin])\n",
    "    plt.ylim(-10, 10)\n",
    "    plt.show()\n",
    "\n",
    "interactive_plot=interactive(plotfun,\\\n",
    "         p=[(x,Players.index(x)) for x in Players],\\\n",
    "         g=[(x,Goods.index(x)) for x in Goods],\\\n",
    "         g2=[(x,Goods.index(x)) for x in Goods],\\\n",
    "         h=(0,20),\\\n",
    "         h2=(0,20),\\\n",
    "        );\n",
    "\n",
    "\n",
    "interactive_plot"
   ]
  },
  {
   "cell_type": "code",
   "execution_count": 4,
   "metadata": {},
   "outputs": [
    {
     "name": "stdout",
     "output_type": "stream",
     "text": [
      "[-8 24]\n"
     ]
    },
    {
     "data": {
      "text/plain": [
       "array([ True, False])"
      ]
     },
     "execution_count": 4,
     "metadata": {},
     "output_type": "execute_result"
    }
   ],
   "source": [
    "W1=[[1,-2],\n",
    "    [3,2]]\n",
    "x=[4,6]\n",
    "h = np.dot(W1, x)\n",
    "print((h))\n",
    "h<0"
   ]
  },
  {
   "cell_type": "code",
   "execution_count": 13,
   "metadata": {
    "collapsed": true
   },
   "outputs": [
    {
     "data": {
      "text/plain": [
       "20"
      ]
     },
     "metadata": {},
     "output_type": "display_data"
    }
   ],
   "source": [
    "def f(x):\n",
    "    return 2*x\n",
    "interact(f, x=10);"
   ]
  },
  {
   "cell_type": "code",
   "execution_count": null,
   "metadata": {},
   "outputs": [],
   "source": []
  }
 ],
 "metadata": {
  "kernelspec": {
   "display_name": "Python 3",
   "language": "python",
   "name": "python3"
  },
  "language_info": {
   "codemirror_mode": {
    "name": "ipython",
    "version": 3
   },
   "file_extension": ".py",
   "mimetype": "text/x-python",
   "name": "python",
   "nbconvert_exporter": "python",
   "pygments_lexer": "ipython3",
   "version": "3.6.5"
  }
 },
 "nbformat": 4,
 "nbformat_minor": 2
}
